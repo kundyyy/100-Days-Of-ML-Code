{
  "nbformat": 4,
  "nbformat_minor": 0,
  "metadata": {
    "colab": {
      "name": "AfterWork Data Science: Clustering Analysis with Python",
      "provenance": [],
      "collapsed_sections": [
        "bui-wArzDV7y",
        "UcmvzSgNEB_h",
        "P4lcBqNyX2HE",
        "PXGnrHyTX5iE",
        "GZa5G32vYRPg",
        "_UZ3uyB7xv1f",
        "hqXRbdPPD8lt"
      ],
      "toc_visible": true,
      "include_colab_link": true
    },
    "kernelspec": {
      "name": "python3",
      "display_name": "Python 3"
    }
  },
  "cells": [
    {
      "cell_type": "markdown",
      "metadata": {
        "id": "view-in-github",
        "colab_type": "text"
      },
      "source": [
        "<a href=\"https://colab.research.google.com/github/kundyyy/100-Days-Of-ML-Code/blob/master/AfterWork_Data_Science_Clustering_Analysis_with_Python.ipynb\" target=\"_parent\"><img src=\"https://colab.research.google.com/assets/colab-badge.svg\" alt=\"Open In Colab\"/></a>"
      ]
    },
    {
      "cell_type": "markdown",
      "metadata": {
        "id": "ZlOTp0CkXE1Z",
        "colab_type": "text"
      },
      "source": [
        "<font color=\"blue\">To use this notebook on Google Colaboratory, you will need to make a copy of it. Go to **File** > **Save a Copy in Drive**. You can then use the new copy that will appear in the new tab.</font>"
      ]
    },
    {
      "cell_type": "markdown",
      "metadata": {
        "id": "kusYUglJeKTD",
        "colab_type": "text"
      },
      "source": [
        "# AfterWork Data Science: Clustering Analysis with Python"
      ]
    },
    {
      "cell_type": "markdown",
      "metadata": {
        "id": "bui-wArzDV7y",
        "colab_type": "text"
      },
      "source": [
        "### Prerequisites"
      ]
    },
    {
      "cell_type": "code",
      "metadata": {
        "id": "R6ThCsEAXaeC",
        "colab_type": "code",
        "colab": {}
      },
      "source": [
        "# Let's first import the libraries that we will need\n",
        "# ----\n",
        "#\n",
        "import pandas as pd               # pandas for performing data manipulation\n",
        "import numpy as np                # numpy for performing scientific computations\n",
        "import matplotlib.pyplot as plt   # matplotlib for performing visualisation "
      ],
      "execution_count": 0,
      "outputs": []
    },
    {
      "cell_type": "markdown",
      "metadata": {
        "colab_type": "text",
        "id": "UcmvzSgNEB_h"
      },
      "source": [
        "### Examples "
      ]
    },
    {
      "cell_type": "code",
      "metadata": {
        "id": "J3ZOzrx7wcPq",
        "colab_type": "code",
        "colab": {}
      },
      "source": [
        "# Example\n",
        "# ---\n",
        "# In this example we will use the K-means algorithm to create three\n",
        "# clusters from our given dataset. \n",
        "# ---\n",
        "# This algorithm will partion our data into k clusters such that data points \n",
        "# in the same cluster are similar, and data points in the different \n",
        "# clusters are away from each other. The value of k would be the \n",
        "# no. of clusters we would intend to have. \n",
        "# ---\n",
        "# Dataset url = https://bit.ly/RioTemperature\n",
        "# ---\n",
        "# \n",
        "\n",
        "# Let's first import our algorithm \n",
        "# ---\n",
        "# \n",
        "from sklearn.cluster import KMeans "
      ],
      "execution_count": 0,
      "outputs": []
    },
    {
      "cell_type": "markdown",
      "metadata": {
        "id": "P4lcBqNyX2HE",
        "colab_type": "text"
      },
      "source": [
        "#### Data Importation"
      ]
    },
    {
      "cell_type": "code",
      "metadata": {
        "id": "JzZCuFyYwijA",
        "colab_type": "code",
        "colab": {}
      },
      "source": [
        "# Then import our dataset\n",
        "# ---\n",
        "# Dataset url = https://bit.ly/RioTemperature\n",
        "\n",
        "# This dataset contains rio temperature accross the years 1997 - 2019.\n",
        "# We also note that we don't have a label.\n",
        "# ---\n",
        "# \n",
        "rio_temp_df = pd.read_csv('https://bit.ly/RioTemperature')\n",
        "rio_temp_df.head()"
      ],
      "execution_count": 0,
      "outputs": []
    },
    {
      "cell_type": "code",
      "metadata": {
        "id": "b2rRCd_3fEhE",
        "colab_type": "code",
        "colab": {}
      },
      "source": [
        "# Checking our last records\n",
        "# ---\n",
        "# \n",
        "rio_temp_df.tail()"
      ],
      "execution_count": 0,
      "outputs": []
    },
    {
      "cell_type": "markdown",
      "metadata": {
        "id": "PXGnrHyTX5iE",
        "colab_type": "text"
      },
      "source": [
        "#### Data Exploration / Cleaning / Preparation / Statistical Analysis"
      ]
    },
    {
      "cell_type": "markdown",
      "metadata": {
        "id": "BHayNvYXYAyf",
        "colab_type": "text"
      },
      "source": [
        "We won't perform extensive exploration / cleaning / preparation / statistical analsysis steps here because our main focus for this part of the session is to apply clustering analysis to our dataset."
      ]
    },
    {
      "cell_type": "markdown",
      "metadata": {
        "id": "GZa5G32vYRPg",
        "colab_type": "text"
      },
      "source": [
        "#### Data Modeling / Implementing the Solution"
      ]
    },
    {
      "cell_type": "code",
      "metadata": {
        "id": "XnzyNrsz4_oF",
        "colab_type": "code",
        "colab": {}
      },
      "source": [
        "# During this step we select the data that we would like to work with.\n",
        "# The following code will select all the values and store them in an array containing \n",
        "# a matrix that will contain our features. \n",
        "# This matrix will then be passed to our K-means algorithm for clustering.\n",
        "# ---\n",
        "# \n",
        "X = rio_temp_df.iloc[:,].values\n",
        "\n",
        "# Let's preview our resulting data. \n",
        "# We can make comparisons with the previewed data in the previous cell just to \n",
        "# confirm we put the right values in our matrix.\n",
        "# ---\n",
        "# \n",
        "X"
      ],
      "execution_count": 0,
      "outputs": []
    },
    {
      "cell_type": "code",
      "metadata": {
        "id": "n1Zb0--Pwp7M",
        "colab_type": "code",
        "colab": {}
      },
      "source": [
        "# Lets now create the K-means clusterer that we will use to perform cluster analysis. \n",
        "# Because we want two clusters, we pass 3 to the clusterer. \n",
        "# NB: We use clusterer for clustering, regressor for regression, classifier for classifying \n",
        "# ---\n",
        "# In addition, we set random_state = 1, if we would like to reproduce results \n",
        "# at some later point in time. \n",
        "# ----\n",
        "# For further info about K-means, we can refer its documentation\n",
        "# by following this link: https://bit.ly/2To6GKN. This will be useful \n",
        "# to explore other model parameters that you'll get to see as an output of this cell.\n",
        "# ---\n",
        "# \n",
        "clusterer = KMeans(3, random_state=1)\n",
        "\n",
        "# Then passing our data the clusterer\n",
        "# ---\n",
        "# \n",
        "clusterer.fit(X)"
      ],
      "execution_count": 0,
      "outputs": []
    },
    {
      "cell_type": "code",
      "metadata": {
        "id": "ydrzqmF4wwSr",
        "colab_type": "code",
        "colab": {}
      },
      "source": [
        "# We then use the predict method to return the cluster that each data point \n",
        "# belongs to and then store this in a new column of our dataframe.\n",
        "# ---\n",
        "# \n",
        "rio_temp_df['cluster_group'] = clusterer.predict(X)"
      ],
      "execution_count": 0,
      "outputs": []
    },
    {
      "cell_type": "code",
      "metadata": {
        "id": "iPOsMlKTXcvc",
        "colab_type": "code",
        "colab": {}
      },
      "source": [
        "# We then sample our dataset to check for the assigned clustering groups 0, 1 and 2. \n",
        "# We check the last column with the name \"cluster_group\".\n",
        "# If we don't get to see these clusters, we can run the code again to get another set of records.\n",
        "# ---\n",
        "#\n",
        "rio_temp_df.sample(10)"
      ],
      "execution_count": 0,
      "outputs": []
    },
    {
      "cell_type": "code",
      "metadata": {
        "colab_type": "code",
        "id": "-kNRyxltEB_i",
        "colab": {}
      },
      "source": [
        "# To preview the records in our first cluster which is cluster 0 we perform\n",
        "# the following pandas operation.\n",
        "# ---\n",
        "# \n",
        "first_cluster = rio_temp_df[rio_temp_df.cluster_group.isin([0])]\n",
        "first_cluster.head()"
      ],
      "execution_count": 0,
      "outputs": []
    },
    {
      "cell_type": "code",
      "metadata": {
        "id": "ZjlFEQ-FS6db",
        "colab_type": "code",
        "colab": {}
      },
      "source": [
        "# To preview the records in our second cluster which is cluster 1, we can do the following;\n",
        "# ---\n",
        "# \n",
        "second_cluster = rio_temp_df[rio_temp_df.cluster_group.isin([1])]\n",
        "second_cluster.head()"
      ],
      "execution_count": 0,
      "outputs": []
    },
    {
      "cell_type": "code",
      "metadata": {
        "id": "a7RlLUj2XHiR",
        "colab_type": "code",
        "colab": {}
      },
      "source": [
        "# We can preview the records in our third cluster which is cluster 2 as shown below:\n",
        "# ---\n",
        "# NB: If you investigate this cluster, and compare it with the other clusters.\n",
        "# One might resolve this is a cluster of outliers owing to the large values found in our features.\n",
        "# ---\n",
        "#\n",
        "third_cluster = rio_temp_df[rio_temp_df.cluster_group.isin([2])]\n",
        "third_cluster.head()"
      ],
      "execution_count": 0,
      "outputs": []
    },
    {
      "cell_type": "markdown",
      "metadata": {
        "id": "dq8J-SpEIN1r",
        "colab_type": "text"
      },
      "source": [
        "If we had a dataset with 2 features i.e. x and y, then it would be easy to visualise our clusters. However, there are techniques such as Principal Component Analysis (PCA), which we can use for visualising a dataset with many features. This topic beyond the scope of this session."
      ]
    },
    {
      "cell_type": "markdown",
      "metadata": {
        "id": "_UZ3uyB7xv1f",
        "colab_type": "text"
      },
      "source": [
        "#### Challenging our Solution"
      ]
    },
    {
      "cell_type": "code",
      "metadata": {
        "id": "CDVU9ViqxxsW",
        "colab_type": "code",
        "colab": {}
      },
      "source": [
        "# We can also check the optimal values of K through the use of the \n",
        "# elbow method as shown below.\n",
        "# We will run the KNN algorithm for different values of K (say K = 10 to 1) \n",
        "# and plot the K values against SSE(Sum of Squared Errors). \n",
        "# And select the value of K for the elbow point as shown in the figure.\n",
        "# ---\n",
        "# \n",
        "\n",
        "# We will first define an empy list where we will be required to store our errors\n",
        "# ---\n",
        "#\n",
        "Error = []\n",
        "\n",
        "# Then use a for loop to run KNN several times and append values the sum of squared errors \n",
        "# the error list created above. The values in this list willl then be plotted agains the no. of clusters.\n",
        "# to create our elbow method visualisation.\n",
        "# ---\n",
        "#\n",
        "for i in range(1, 11):\n",
        "    kmeans = KMeans(n_clusters = i).fit(X)\n",
        "    kmeans.fit(X)\n",
        "    Error.append(kmeans.inertia_)\n",
        "\n",
        "# We plot our elbow method visualisation: No. of clusters vs Error\n",
        "# ---\n",
        "# \n",
        "plt.plot(range(1, 11), Error)\n",
        "plt.title('Elbow method')\n",
        "plt.xlabel('No of clusters')\n",
        "plt.ylabel('Error');"
      ],
      "execution_count": 0,
      "outputs": []
    },
    {
      "cell_type": "markdown",
      "metadata": {
        "id": "T_IUigERz55t",
        "colab_type": "text"
      },
      "source": [
        "The output graph of the Elbow method is shown above. \n",
        "As we can see, the optimal value of k is 2, as the elbow-like shape is formed at k=2 in the above graph. We can implement k-means again using k = 2.\n",
        "\n"
      ]
    },
    {
      "cell_type": "markdown",
      "metadata": {
        "colab_type": "text",
        "id": "hqXRbdPPD8lt"
      },
      "source": [
        "### <font color=\"green\">Challenges</font> "
      ]
    },
    {
      "cell_type": "code",
      "metadata": {
        "colab_type": "code",
        "id": "0TM7SJLKD8lu",
        "colab": {}
      },
      "source": [
        "# Challenge 1\n",
        "# ---\n",
        "# Perform cluster analysis on the following loan applicants dataset by creating \n",
        "# 4 clusters of customers. In addition, challenge your solution by determining \n",
        "# the optimal no. of customers by performing the elbow method.\n",
        "# Hint: Check and deal with missing values.\n",
        "# ---\n",
        "# Dataset url = https://bit.ly/LoanApplicantsDs\n",
        "# ---\n",
        "# OUR CODE GOES BELOW\n",
        "#  "
      ],
      "execution_count": 0,
      "outputs": []
    },
    {
      "cell_type": "code",
      "metadata": {
        "id": "6dE3ZRRPfXuu",
        "colab_type": "code",
        "colab": {}
      },
      "source": [
        "# Challenge 2\n",
        "# ---  \n",
        "# An computer distributor has the given data on the computers in stock.\n",
        "# Perform clustering analysis on the following computers dataset to identify\n",
        "# the optimal no. clusters.\n",
        "# ---\n",
        "# Dataset url = https://bit.ly/ComputersDs\n",
        "# ---\n",
        "# OUR CODE GOES BELOW\n",
        "#  "
      ],
      "execution_count": 0,
      "outputs": []
    }
  ]
}